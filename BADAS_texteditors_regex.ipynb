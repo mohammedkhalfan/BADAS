{
 "cells": [
  {
   "cell_type": "markdown",
   "metadata": {
    "deletable": true,
    "editable": true
   },
   "source": [
    "# Text Editors\n",
    "\n",
    "Text editors are an integral part of data analysis. There are many different flavors: some have a graphical interface, some are on the command line; some are good for writing papers, others for code. As you begin to conduct more analyses you will see that some tools suit you better than others. With that said, we will introduce you to some of the text editors that we use often and recommend."
   ]
  },
  {
   "cell_type": "markdown",
   "metadata": {
    "deletable": true,
    "editable": true
   },
   "source": [
    "## vi/vim\n",
    "\n",
    "vi was the first implimentation of this text editor and vim is an upgraded version, so everthing vi does can be done in vim plust a lot more (syntax highlighting, can edit via network protocols, includes a built in diff, etc.). vim is one of the most basic, ligthweight, and widely available and used text editors around. It is bundled with almost all unix environments. It is convenient for working remotely where you do not have a keyboard and mouse, which graphical editors require. Instead, you use commands and the arrow keys to navigate the file. Sounds intimidating but it's pretty straightforward!"
   ]
  },
  {
   "cell_type": "markdown",
   "metadata": {
    "deletable": true,
    "editable": true
   },
   "source": [
    "### Basic Usage\n",
    "\n",
    "To get started with vim, you can open a new file with\n",
    "```bash\n",
    "vim\n",
    "```\n",
    "If you want to open an existing file, just add the name of the file after vim \n",
    "```bash\n",
    "vim [filename]\n",
    "```\n",
    "\n",
    "### Command Mode\n",
    "\n",
    "When you first open vim, all alphanumeric keys are bound to commands. For example, if you type `dd` then you will delete the line where your cursor is instead of actually entering 'dd'. \n",
    "\n",
    "**Navigation**\n",
    "- `h` moves the cursor one character to the left.\n",
    "- `j` moves the cursor down one line.\n",
    "- `k` moves the cursor up one line.\n",
    "- `l` moves the cursor one character to the right.\n",
    "- `0` moves the cursor to the beginning of the line.\n",
    "- `$` moves the cursor to the end of the line.\n",
    "- `w` move forward one word.\n",
    "- `b` move backward one word.\n",
    "- `G` move to the end of the file.\n",
    "- `gg` move to the beginning of the file.\n",
    "- `. move to the last edit.\n",
    "\n",
    "**Editing**\n",
    "- `d` starts the delete operation.\n",
    "- `dw` will delete a word.\n",
    "- `d0` will delete to the beginning of a line.\n",
    "- `d$` will delete to the end of a line.\n",
    "- `dgg` will delete to the beginning of the file.\n",
    "- `dG` will delete to the end of the file.\n",
    "- `u` will undo the last operation.\n",
    "- `Ctrl-r` will redo the last undo.\n",
    "\n",
    "**Copying and Pasting**\n",
    "- `v` highlight one character at a time.\n",
    "- `V` highlight one line at a time.\n",
    "- `Ctrl-v` highlight by columns.\n",
    "- `p` paste text after the current line.\n",
    "- `P` paste text on the current line.\n",
    "- `y` yank text into the copy buffer.\n",
    "\n",
    "### Menu Mode\n",
    "\n",
    "**Regex/substitute**\n",
    "- `/text` search for text in the document, going forward.\n",
    "- `n` move the cursor to the next instance of the text from the last search. This will wrap to the beginning of the document.\n",
    "- `N` move the cursor to the previous instance of the text from the last search.\n",
    "- `?text` search for text in the document, going backwards.\n",
    "- `:%s/text/replacement text/g` search through the entire document for text and replace it with replacement text.\n",
    "- `:%s/text/replacement text/gc` search through the entire document and confirm before replacing text.\n",
    "\n",
    "**Save files**\n",
    "- `:w` saves the file\n",
    "- `:w [filename]` saves the file to `filename`\n",
    "- `:q` exits vime\n",
    "- `:wq` saves and quits\n",
    "- `:q!` force quit (ignore prompts)\n",
    "\n",
    "### Insert Mode\n",
    "\n",
    "This is the basic editing mode. All of the keys will function as normal: i.e. if you now type `dd` you will enter 'dd' into the file.\n"
   ]
  },
  {
   "cell_type": "markdown",
   "metadata": {
    "deletable": true,
    "editable": true
   },
   "source": [
    "## Atom"
   ]
  },
  {
   "cell_type": "markdown",
   "metadata": {
    "deletable": true,
    "editable": true
   },
   "source": [
    "## Notepad++"
   ]
  },
  {
   "cell_type": "markdown",
   "metadata": {
    "deletable": true,
    "editable": true
   },
   "source": [
    "# Regular Expressions\n",
    "\n"
   ]
  },
  {
   "cell_type": "markdown",
   "metadata": {
    "deletable": true,
    "editable": true
   },
   "source": [
    "A regular expression (aka regex) is a sequence of characters that describe or match a text pattern. For example, the string **aabb12** could be described as *aabb12*, two a's, *two'bs, then 1, then 2*, or *four letters followed by two numbers*. \n",
    "\n",
    "## Metacharacters\n",
    "\n",
    "Metacharacters are characters that have an alternate meaning rather than a literal meaning. \n",
    "\n",
    "\n",
    "\n",
    "For example, we'll take the following characters to search a text file:\n",
    "- 'A'\n",
    "- '.'\n",
    "- '$'"
   ]
  },
  {
   "cell_type": "code",
   "execution_count": 1,
   "metadata": {
    "collapsed": false,
    "deletable": true,
    "editable": true,
    "scrolled": true
   },
   "outputs": [
    {
     "data": {
      "text/plain": [
       "['A']"
      ]
     },
     "execution_count": 1,
     "metadata": {},
     "output_type": "execute_result"
    }
   ],
   "source": [
    "import re\n",
    "\n",
    "text = 'Alan is the coolest person ever!$$$'\n",
    "\n",
    "A = re.compile('A')\n",
    "dot = re.compile('.')\n",
    "dollar = re.compile('$')\n",
    "\n",
    "A.findall(text)"
   ]
  },
  {
   "cell_type": "code",
   "execution_count": 2,
   "metadata": {
    "collapsed": false,
    "deletable": true,
    "editable": true
   },
   "outputs": [
    {
     "data": {
      "text/plain": [
       "['A',\n",
       " 'l',\n",
       " 'a',\n",
       " 'n',\n",
       " ' ',\n",
       " 'i',\n",
       " 's',\n",
       " ' ',\n",
       " 't',\n",
       " 'h',\n",
       " 'e',\n",
       " ' ',\n",
       " 'c',\n",
       " 'o',\n",
       " 'o',\n",
       " 'l',\n",
       " 'e',\n",
       " 's',\n",
       " 't',\n",
       " ' ',\n",
       " 'p',\n",
       " 'e',\n",
       " 'r',\n",
       " 's',\n",
       " 'o',\n",
       " 'n',\n",
       " ' ',\n",
       " 'e',\n",
       " 'v',\n",
       " 'e',\n",
       " 'r',\n",
       " '!',\n",
       " '$',\n",
       " '$',\n",
       " '$']"
      ]
     },
     "execution_count": 2,
     "metadata": {},
     "output_type": "execute_result"
    }
   ],
   "source": [
    "dot.findall(text)"
   ]
  },
  {
   "cell_type": "code",
   "execution_count": 3,
   "metadata": {
    "collapsed": false,
    "deletable": true,
    "editable": true
   },
   "outputs": [
    {
     "data": {
      "text/plain": [
       "['']"
      ]
     },
     "execution_count": 3,
     "metadata": {},
     "output_type": "execute_result"
    }
   ],
   "source": [
    "dollar.findall(text)"
   ]
  },
  {
   "cell_type": "markdown",
   "metadata": {
    "deletable": true,
    "editable": true
   },
   "source": [
    "## Position Metacharacters\n",
    "\n",
    "This type of regular expression is used to match characters based on where they are located as opposed to what the character means.\n",
    "\n",
    "Let's take the '$' example. We now know that it matches the end of a line so if we couple that with another character:"
   ]
  },
  {
   "cell_type": "code",
   "execution_count": 4,
   "metadata": {
    "collapsed": false,
    "deletable": true,
    "editable": true
   },
   "outputs": [
    {
     "data": {
      "text/plain": [
       "['$']"
      ]
     },
     "execution_count": 4,
     "metadata": {},
     "output_type": "execute_result"
    }
   ],
   "source": [
    "text = 'Alan is the coolest man ever!$$$'\n",
    "\n",
    "# In regular expressions, backslashes tell the engine to interpret metacharacters as literals.\n",
    "dollar = re.compile('\\$$')\n",
    "\n",
    "dollar.findall(text)"
   ]
  },
  {
   "cell_type": "markdown",
   "metadata": {
    "deletable": true,
    "editable": true
   },
   "source": [
    "Similarly, '^' matches the beginning of a line:"
   ]
  },
  {
   "cell_type": "code",
   "execution_count": 5,
   "metadata": {
    "collapsed": false,
    "deletable": true,
    "editable": true
   },
   "outputs": [
    {
     "data": {
      "text/plain": [
       "['A']"
      ]
     },
     "execution_count": 5,
     "metadata": {},
     "output_type": "execute_result"
    }
   ],
   "source": [
    "# IGNORECASE tells the intepreter match the meaning of the character, not character and case\n",
    "caret = re.compile('^a', re.IGNORECASE)\n",
    "\n",
    "caret.findall(text)"
   ]
  },
  {
   "cell_type": "markdown",
   "metadata": {
    "deletable": true,
    "editable": true
   },
   "source": [
    "There are also boundary metacharacters. For example, '\\b' matches a word that ends with 'ing'. Inversely, '\\B' matches a non-boundary word, so it would match the 'ing' in 'things' but not 'thing'. This is useful for specifying substrings or whole words.\n",
    "\n",
    "NOTE: some characters are treated as literals even when they are backslached. See here for more deltails: \n",
    "https://stackoverflow.com/questions/2241600/python-regex-r-prefix\n",
    "https://stackoverflow.com/questions/21104476/what-does-the-r-in-pythons-re-compiler-pattern-flags-mean"
   ]
  },
  {
   "cell_type": "code",
   "execution_count": 6,
   "metadata": {
    "collapsed": false,
    "deletable": true,
    "editable": true
   },
   "outputs": [
    {
     "name": "stdout",
     "output_type": "stream",
     "text": [
      "word boundary []\n",
      "non-word boundary ['is']\n"
     ]
    }
   ],
   "source": [
    "text = 'pistol'\n",
    "\n",
    "# 'is' is surrounded by non-blank characters, not boundaries\n",
    "boundary = re.compile(r'\\bis\\b')\n",
    "print('word boundary',boundary.findall(text))\n",
    "\n",
    "# However, it is surrounded by non-boundary characters, so it is found by non-word boundary searches\n",
    "nonboundary = re.compile('\\Bis\\B')\n",
    "print('non-word boundary',nonboundary.findall(text))\n"
   ]
  },
  {
   "cell_type": "code",
   "execution_count": 7,
   "metadata": {
    "collapsed": false,
    "deletable": true,
    "editable": true
   },
   "outputs": [
    {
     "name": "stdout",
     "output_type": "stream",
     "text": [
      "word boundary ['is']\n",
      "non-word boundary []\n"
     ]
    }
   ],
   "source": [
    "text = 'is'\n",
    "\n",
    "boundary = re.compile(r'\\bis\\b')\n",
    "print('word boundary', boundary.findall(text))\n",
    "\n",
    "nonboundary = re.compile('\\Bis\\B')\n",
    "print('non-word boundary', nonboundary.findall(text))"
   ]
  },
  {
   "cell_type": "markdown",
   "metadata": {
    "deletable": true,
    "editable": true
   },
   "source": [
    "## Single Metacharacters\n",
    "\n",
    "These metacharacters match specific types of charactes. For example, you can match all alphanumeric characters with '\\w' or any whitespace character with '\\s'"
   ]
  },
  {
   "cell_type": "code",
   "execution_count": 8,
   "metadata": {
    "collapsed": false,
    "deletable": true,
    "editable": true
   },
   "outputs": [
    {
     "data": {
      "text/plain": [
       "['1', '2', '3']"
      ]
     },
     "execution_count": 8,
     "metadata": {},
     "output_type": "execute_result"
    }
   ],
   "source": [
    "text = '123 abc !@#'\n",
    "\n",
    "digits = re.compile('\\d')\n",
    "digits.findall(text)"
   ]
  },
  {
   "cell_type": "code",
   "execution_count": 9,
   "metadata": {
    "collapsed": false,
    "deletable": true,
    "editable": true
   },
   "outputs": [
    {
     "data": {
      "text/plain": [
       "['1', '2', '3', 'a', 'b', 'c']"
      ]
     },
     "execution_count": 9,
     "metadata": {},
     "output_type": "execute_result"
    }
   ],
   "source": [
    "# any alphanumeric character\n",
    "wordchar = re.compile('\\w')\n",
    "wordchar.findall(text)"
   ]
  },
  {
   "cell_type": "code",
   "execution_count": 10,
   "metadata": {
    "collapsed": false,
    "deletable": true,
    "editable": true
   },
   "outputs": [
    {
     "data": {
      "text/plain": [
       "[' ', ' ', '!', '@', '#']"
      ]
     },
     "execution_count": 10,
     "metadata": {},
     "output_type": "execute_result"
    }
   ],
   "source": [
    "# any non-word character\n",
    "nonwordchar = re.compile('\\W')\n",
    "nonwordchar.findall(text)"
   ]
  },
  {
   "cell_type": "code",
   "execution_count": 11,
   "metadata": {
    "collapsed": false,
    "deletable": true,
    "editable": true
   },
   "outputs": [
    {
     "data": {
      "text/plain": [
       "['1', '2', '3', ' ', 'a', 'b', 'c', ' ', '!', '@', '#']"
      ]
     },
     "execution_count": 11,
     "metadata": {},
     "output_type": "execute_result"
    }
   ],
   "source": [
    "# any non-newline character\n",
    "dot = re.compile('.')\n",
    "dot.findall(text)"
   ]
  },
  {
   "cell_type": "markdown",
   "metadata": {
    "deletable": true,
    "editable": true
   },
   "source": [
    "## Quantifiers\n",
    "\n",
    "All examples before have been searching for individual characters. Quanitfiers allow you to match repeated patterns."
   ]
  },
  {
   "cell_type": "code",
   "execution_count": 12,
   "metadata": {
    "collapsed": false,
    "deletable": true,
    "editable": true
   },
   "outputs": [
    {
     "data": {
      "text/plain": [
       "['a', 'a', 'b', 'b', 'c', 'd', 'e', 'f', '1', '2', '3']"
      ]
     },
     "execution_count": 12,
     "metadata": {},
     "output_type": "execute_result"
    }
   ],
   "source": [
    "text = 'aa bb cdef 123'\n",
    "\n",
    "# this looks for every instance of a non-word character\n",
    "wordchar = re.compile('\\w')\n",
    "wordchar.findall(text)"
   ]
  },
  {
   "cell_type": "code",
   "execution_count": 13,
   "metadata": {
    "collapsed": false,
    "deletable": true,
    "editable": true
   },
   "outputs": [
    {
     "data": {
      "text/plain": [
       "['aa', 'bb', 'cdef', '123']"
      ]
     },
     "execution_count": 13,
     "metadata": {},
     "output_type": "execute_result"
    }
   ],
   "source": [
    "# the '+' tells the interpreter to look for one or more consecutive characters\n",
    "wordchar = re.compile('\\w+')\n",
    "wordchar.findall(text)"
   ]
  },
  {
   "cell_type": "code",
   "execution_count": 14,
   "metadata": {
    "collapsed": false,
    "deletable": true,
    "editable": true
   },
   "outputs": [
    {
     "name": "stdout",
     "output_type": "stream",
     "text": [
      "colour ['colour']\n",
      "color ['color']\n"
     ]
    }
   ],
   "source": [
    "# '?' is looking for characters that appear once or not at all. It basically makes the preceding character optional.\n",
    "text = 'colour'\n",
    "\n",
    "conditional = re.compile('colou?r')\n",
    "print('colour',conditional.findall(text))\n",
    "\n",
    "text = 'color'\n",
    "print('color', conditional.findall(text))"
   ]
  },
  {
   "cell_type": "code",
   "execution_count": 15,
   "metadata": {
    "collapsed": false,
    "deletable": true,
    "editable": true
   },
   "outputs": [
    {
     "name": "stdout",
     "output_type": "stream",
     "text": [
      "b ['b']\n",
      "boo ['boo']\n",
      "boooo! ['boooo']\n"
     ]
    }
   ],
   "source": [
    "# Asterisk is doesn't require the preceding character to be there, but if it is it will match it\n",
    "# will repeat the pattern as many times as is can.\n",
    "text = 'b'\n",
    "star = re.compile('bo*')\n",
    "print('b',star.findall(text))\n",
    "\n",
    "text = 'boo'\n",
    "print('boo',star.findall(text))\n",
    "\n",
    "text = 'boooo!'\n",
    "print('boooo!', star.findall(text))"
   ]
  },
  {
   "cell_type": "code",
   "execution_count": 16,
   "metadata": {
    "collapsed": false,
    "deletable": true,
    "editable": true
   },
   "outputs": [
    {
     "name": "stdout",
     "output_type": "stream",
     "text": [
      "boo ['boo']\n",
      "boooo! ['boo']\n"
     ]
    }
   ],
   "source": [
    "# curly brackets define a number of times in which the preceding pattern will be repeated\n",
    "repeat = re.compile('bo{2}')\n",
    "text = 'boo'\n",
    "print('boo',repeat.findall(text))\n",
    "\n",
    "text = 'boooo!'\n",
    "print('boooo!', repeat.findall(text))"
   ]
  },
  {
   "cell_type": "markdown",
   "metadata": {
    "deletable": true,
    "editable": true
   },
   "source": [
    "## Character Classes\n",
    "\n",
    "A character class allows you to match a particular set of user defined characters as oppsed to the predefined metacharacters we went over previously. Think of searching for any vowel."
   ]
  },
  {
   "cell_type": "code",
   "execution_count": 17,
   "metadata": {
    "collapsed": false,
    "deletable": true,
    "editable": true
   },
   "outputs": [
    {
     "name": "stdout",
     "output_type": "stream",
     "text": [
      "vowels ['I', 'i', 'e', 'o', 'o', 'a', 'e']\n"
     ]
    }
   ],
   "source": [
    "text = 'I like chocolate'\n",
    "\n",
    "vowels = re.compile('[AEIOUY]', re.IGNORECASE)\n",
    "print('vowels', vowels.findall(text))"
   ]
  },
  {
   "cell_type": "markdown",
   "metadata": {
    "deletable": true,
    "editable": true
   },
   "source": [
    "Alternatively, you can use a caret (^) within the square brackets if these are charaters you do not want to match. In this case, it will match all consonants."
   ]
  },
  {
   "cell_type": "code",
   "execution_count": 18,
   "metadata": {
    "collapsed": false,
    "deletable": true,
    "editable": true
   },
   "outputs": [
    {
     "name": "stdout",
     "output_type": "stream",
     "text": [
      "vowels [' ', 'l', 'k', ' ', 'c', 'h', 'c', 'l', 't']\n"
     ]
    }
   ],
   "source": [
    "vowels = re.compile('[^AEIOUY]', re.IGNORECASE)\n",
    "print('vowels', vowels.findall(text))"
   ]
  },
  {
   "cell_type": "markdown",
   "metadata": {
    "collapsed": false,
    "deletable": true,
    "editable": true
   },
   "source": [
    "You can also specify ranges of characters:"
   ]
  },
  {
   "cell_type": "code",
   "execution_count": 19,
   "metadata": {
    "collapsed": false,
    "deletable": true,
    "editable": true
   },
   "outputs": [
    {
     "name": "stdout",
     "output_type": "stream",
     "text": [
      "pattern ['c', 'c', 'a']\n"
     ]
    }
   ],
   "source": [
    "pattern = re.compile('[a-d]', re.IGNORECASE)\n",
    "print('pattern', pattern.findall(text))"
   ]
  },
  {
   "cell_type": "markdown",
   "metadata": {
    "deletable": true,
    "editable": true
   },
   "source": [
    "## Alterations\n",
    "\n",
    "This is essentially just an 'or' statement. An example would be if you are looking for whether a sentence says 'we have ten dollars.' or 'I have ten dollars.' Since the only varying piece of that sentence are the pronouns, you can try to match either."
   ]
  },
  {
   "cell_type": "code",
   "execution_count": 20,
   "metadata": {
    "collapsed": false,
    "deletable": true,
    "editable": true
   },
   "outputs": [
    {
     "name": "stdout",
     "output_type": "stream",
     "text": [
      "I ['I']\n",
      "They ['They']\n",
      "We ['We']\n"
     ]
    }
   ],
   "source": [
    "text = 'I have ten dollars'\n",
    "pattern = re.compile('we|i|they', re.IGNORECASE)\n",
    "print('I', pattern.findall(text))\n",
    "\n",
    "text = 'They have ten dollars'\n",
    "pattern = re.compile('we|i|they', re.IGNORECASE)\n",
    "print('They', pattern.findall(text))\n",
    "\n",
    "text = 'We have ten dollars'\n",
    "pattern = re.compile('we|i|they', re.IGNORECASE)\n",
    "print('We', pattern.findall(text))"
   ]
  },
  {
   "cell_type": "markdown",
   "metadata": {
    "deletable": true,
    "editable": true
   },
   "source": [
    "## Backreferences\n",
    "\n",
    "Back references/captures allow you to reuse regular expressions and/or patterns that match that regular expression. \n",
    "\n",
    "Let's give a biological example:\n",
    "You're looking for a motif that has flanking restriction sites ACTG. The motif can be of any length and any composition of nucleotides but is always flanked by those cuts sites:"
   ]
  },
  {
   "cell_type": "code",
   "execution_count": 44,
   "metadata": {
    "collapsed": false,
    "deletable": true,
    "editable": true
   },
   "outputs": [
    {
     "name": "stdout",
     "output_type": "stream",
     "text": [
      "matches: ('ACTG', 'TTTTTTTTT')\n",
      "matches: ('ACTG', 'AAAAAAAAAAAAAA')\n"
     ]
    }
   ],
   "source": [
    "text = 'ACTGTTTTTTTTTACTG'\n",
    "\n",
    "# the '\\1' is the refence to the first captured pattern.\n",
    "# All patterns are ennumerated but can also be named.\n",
    "print('matches:',re.search(r'(ACTG)([ACTG]+)\\1', text).groups())\n",
    "\n",
    "text = 'ATCGCAGCTACGACTGAAAAAAAAAAAAAAACTG'\n",
    "print('matches:',re.search(r'(ACTG)([ACTG]+)\\1', text).groups())"
   ]
  },
  {
   "cell_type": "markdown",
   "metadata": {
    "deletable": true,
    "editable": true
   },
   "source": [
    "## Substitution Mode\n",
    "\n",
    "There are several ways that one can use regular expressions, though the two main modes are searching and substituting.\n",
    "\n",
    "Searching/matching will only look for whether or not a pattern is matched. Substituting will replace any pattern that is matched with another pattern. Above we have used only searching, so below will only showcase an example of a substitution."
   ]
  },
  {
   "cell_type": "code",
   "execution_count": 47,
   "metadata": {
    "collapsed": false
   },
   "outputs": [
    {
     "data": {
      "text/plain": [
       "'AAAATTTTTTTTTAAAA'"
      ]
     },
     "execution_count": 47,
     "metadata": {},
     "output_type": "execute_result"
    }
   ],
   "source": [
    "text = 'ACTGTTTTTTTTTACTG'\n",
    "re.sub(r'ACTG', 'AAAA', text)"
   ]
  },
  {
   "cell_type": "code",
   "execution_count": null,
   "metadata": {
    "collapsed": true
   },
   "outputs": [],
   "source": []
  }
 ],
 "metadata": {
  "kernelspec": {
   "display_name": "Python 3",
   "language": "python",
   "name": "python3"
  },
  "language_info": {
   "codemirror_mode": {
    "name": "ipython",
    "version": 3
   },
   "file_extension": ".py",
   "mimetype": "text/x-python",
   "name": "python",
   "nbconvert_exporter": "python",
   "pygments_lexer": "ipython3",
   "version": "3.5.3"
  },
  "latex_envs": {
   "bibliofile": "biblio.bib",
   "cite_by": "apalike",
   "current_citInitial": 1,
   "eqLabelWithNumbers": true,
   "eqNumInitial": 0
  }
 },
 "nbformat": 4,
 "nbformat_minor": 2
}
